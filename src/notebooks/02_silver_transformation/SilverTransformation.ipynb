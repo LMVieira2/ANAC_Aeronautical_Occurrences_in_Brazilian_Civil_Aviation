{
 "cells": [
  {
   "cell_type": "markdown",
   "metadata": {
    "application/vnd.databricks.v1+cell": {
     "cellMetadata": {
      "byteLimit": 2048000,
      "rowLimit": 10000
     },
     "inputWidgets": {},
     "nuid": "5a9cf376-c0fd-48e6-ad50-54e4d73d3190",
     "showTitle": false,
     "tableResultSettingsMap": {},
     "title": ""
    }
   },
   "source": [
    "# Silver transformation"
   ]
  },
  {
   "cell_type": "markdown",
   "metadata": {
    "application/vnd.databricks.v1+cell": {
     "cellMetadata": {
      "byteLimit": 2048000,
      "rowLimit": 10000
     },
     "inputWidgets": {},
     "nuid": "62f0d8d4-0496-4645-b929-4cd8541281e2",
     "showTitle": false,
     "tableResultSettingsMap": {},
     "title": ""
    }
   },
   "source": [
    "## Imports"
   ]
  },
  {
   "cell_type": "code",
   "execution_count": 0,
   "metadata": {
    "application/vnd.databricks.v1+cell": {
     "cellMetadata": {
      "byteLimit": 2048000,
      "rowLimit": 10000
     },
     "inputWidgets": {},
     "nuid": "d74da661-a969-48d6-a0d6-76c5d369609f",
     "showTitle": false,
     "tableResultSettingsMap": {},
     "title": ""
    }
   },
   "outputs": [],
   "source": [
    "from src.modules.FunctionsDataCleaning import clean_dataframe\n",
    "from pyspark.sql.functions import col, sum as _sum, when"
   ]
  },
  {
   "cell_type": "markdown",
   "metadata": {
    "application/vnd.databricks.v1+cell": {
     "cellMetadata": {
      "byteLimit": 2048000,
      "rowLimit": 10000
     },
     "inputWidgets": {},
     "nuid": "a04afb67-cffb-4a9f-8e9d-c0cea8bd203b",
     "showTitle": false,
     "tableResultSettingsMap": {},
     "title": ""
    }
   },
   "source": [
    "## Standardize columns"
   ]
  },
  {
   "cell_type": "markdown",
   "metadata": {
    "application/vnd.databricks.v1+cell": {
     "cellMetadata": {
      "byteLimit": 2048000,
      "rowLimit": 10000
     },
     "inputWidgets": {},
     "nuid": "218227df-e00a-4aa0-87df-adea274ecd36",
     "showTitle": false,
     "tableResultSettingsMap": {},
     "title": ""
    }
   },
   "source": [
    "### aircraft "
   ]
  },
  {
   "cell_type": "code",
   "execution_count": 0,
   "metadata": {
    "application/vnd.databricks.v1+cell": {
     "cellMetadata": {
      "byteLimit": 2048000,
      "rowLimit": 10000
     },
     "inputWidgets": {},
     "nuid": "d4d5d23c-2faa-4eda-917f-ef4a56e9166e",
     "showTitle": false,
     "tableResultSettingsMap": {},
     "title": ""
    }
   },
   "outputs": [],
   "source": [
    "df_aircraft = spark.read.table(\"anac_aeronautical_occurrences_in_brazilian_civil_aviation.bronze_layer.gov_aircraft\")"
   ]
  },
  {
   "cell_type": "code",
   "execution_count": 0,
   "metadata": {
    "application/vnd.databricks.v1+cell": {
     "cellMetadata": {
      "byteLimit": 2048000,
      "rowLimit": 10000
     },
     "inputWidgets": {},
     "nuid": "eb866073-87c6-43ad-ba3d-c1b3896a547f",
     "showTitle": false,
     "tableResultSettingsMap": {},
     "title": ""
    }
   },
   "outputs": [],
   "source": [
    "df_aircraft = df_aircraft.drop(\"aeronave_operador_categoria\")"
   ]
  },
  {
   "cell_type": "code",
   "execution_count": 0,
   "metadata": {
    "application/vnd.databricks.v1+cell": {
     "cellMetadata": {
      "byteLimit": 2048000,
      "rowLimit": 10000
     },
     "inputWidgets": {},
     "nuid": "3b4bc109-e5bf-483f-9630-b9d788c74314",
     "showTitle": false,
     "tableResultSettingsMap": {},
     "title": ""
    }
   },
   "outputs": [],
   "source": [
    "df_aircraft_clean = clean_dataframe(df_aircraft)"
   ]
  },
  {
   "cell_type": "code",
   "execution_count": 0,
   "metadata": {
    "application/vnd.databricks.v1+cell": {
     "cellMetadata": {
      "byteLimit": 2048000,
      "rowLimit": 10000
     },
     "inputWidgets": {},
     "nuid": "633b9cbe-c8a7-4ece-87bd-addf796d8b36",
     "showTitle": false,
     "tableResultSettingsMap": {},
     "title": ""
    }
   },
   "outputs": [],
   "source": [
    "special_chars_regex = r'^[^a-zA-Z0-9]+$'\n",
    "\n",
    "null_counts = df_aircraft_clean.select([\n",
    "    _sum(when(col(c).isNull(), 1).otherwise(0)).alias(c) for c in df_aircraft_clean.columns\n",
    "])\n",
    "\n",
    "special_counts = df_aircraft_clean.select([\n",
    "    _sum(when(col(c).rlike(special_chars_regex), 1).otherwise(0)).alias(c) for c in df_aircraft_clean.columns\n",
    "])\n",
    "\n",
    "print(\"---- NULLs by columns ----\")\n",
    "null_counts.display()\n",
    "\n",
    "print(\"---- Values with only special characters per column ----\")\n",
    "special_counts.display()"
   ]
  },
  {
   "cell_type": "markdown",
   "metadata": {
    "application/vnd.databricks.v1+cell": {
     "cellMetadata": {
      "byteLimit": 2048000,
      "rowLimit": 10000
     },
     "inputWidgets": {},
     "nuid": "97f39b8e-1dfd-467a-b6fe-979581c06c79",
     "showTitle": false,
     "tableResultSettingsMap": {},
     "title": ""
    }
   },
   "source": [
    "### occurrence"
   ]
  },
  {
   "cell_type": "code",
   "execution_count": 0,
   "metadata": {
    "application/vnd.databricks.v1+cell": {
     "cellMetadata": {
      "byteLimit": 2048000,
      "rowLimit": 10000
     },
     "inputWidgets": {},
     "nuid": "58dc54ed-d935-47e8-8d46-0e266d743b6f",
     "showTitle": false,
     "tableResultSettingsMap": {},
     "title": ""
    }
   },
   "outputs": [],
   "source": [
    "df_occurrence = spark.read.table(\"anac_aeronautical_occurrences_in_brazilian_civil_aviation.bronze_layer.gov_occurrence\")"
   ]
  },
  {
   "cell_type": "code",
   "execution_count": 0,
   "metadata": {
    "application/vnd.databricks.v1+cell": {
     "cellMetadata": {
      "byteLimit": 2048000,
      "rowLimit": 10000
     },
     "inputWidgets": {},
     "nuid": "6ca86150-1019-4ac6-8b92-49db188a4f86",
     "showTitle": false,
     "tableResultSettingsMap": {},
     "title": ""
    }
   },
   "outputs": [],
   "source": [
    "df_occurrence_clean = clean_dataframe(df_occurrence)"
   ]
  },
  {
   "cell_type": "code",
   "execution_count": 0,
   "metadata": {
    "application/vnd.databricks.v1+cell": {
     "cellMetadata": {
      "byteLimit": 2048000,
      "rowLimit": 10000
     },
     "inputWidgets": {},
     "nuid": "ba6fa923-3829-4301-9766-b36e91d9c5a3",
     "showTitle": false,
     "tableResultSettingsMap": {},
     "title": ""
    }
   },
   "outputs": [],
   "source": [
    "special_chars_regex = r'^[^a-zA-Z0-9]+$'\n",
    "\n",
    "null_counts = df_occurrence_clean.select([\n",
    "    _sum(when(col(c).isNull(), 1).otherwise(0)).alias(c) for c in df_occurrence_clean.columns\n",
    "])\n",
    "\n",
    "special_counts = df_occurrence_clean.select([\n",
    "    _sum(when(col(c).rlike(special_chars_regex), 1).otherwise(0)).alias(c) for c in df_occurrence_clean.columns\n",
    "])\n",
    "\n",
    "print(\"---- NULLs by columns ----\")\n",
    "null_counts.display()\n",
    "\n",
    "print(\"---- Values with only special characters per column ----\")\n",
    "special_counts.display()"
   ]
  },
  {
   "cell_type": "markdown",
   "metadata": {
    "application/vnd.databricks.v1+cell": {
     "cellMetadata": {
      "byteLimit": 2048000,
      "rowLimit": 10000
     },
     "inputWidgets": {},
     "nuid": "5eed387f-4531-4371-9bb1-7dd200bdb0f1",
     "showTitle": false,
     "tableResultSettingsMap": {},
     "title": ""
    }
   },
   "source": [
    "### recommendation"
   ]
  },
  {
   "cell_type": "code",
   "execution_count": 0,
   "metadata": {
    "application/vnd.databricks.v1+cell": {
     "cellMetadata": {
      "byteLimit": 2048000,
      "rowLimit": 10000
     },
     "inputWidgets": {},
     "nuid": "540ced15-5c14-4512-b52c-ac1d473c25e9",
     "showTitle": false,
     "tableResultSettingsMap": {},
     "title": ""
    }
   },
   "outputs": [],
   "source": [
    "df_recommendation = spark.read.table(\"anac_aeronautical_occurrences_in_brazilian_civil_aviation.bronze_layer.gov_recommendation\")"
   ]
  },
  {
   "cell_type": "code",
   "execution_count": 0,
   "metadata": {
    "application/vnd.databricks.v1+cell": {
     "cellMetadata": {
      "byteLimit": 2048000,
      "rowLimit": 10000
     },
     "inputWidgets": {},
     "nuid": "2995d3be-0d72-4844-8d0b-c492969f1fc5",
     "showTitle": false,
     "tableResultSettingsMap": {},
     "title": ""
    }
   },
   "outputs": [],
   "source": [
    "df_recommendation_clean = clean_dataframe(df_recommendation)"
   ]
  },
  {
   "cell_type": "code",
   "execution_count": 0,
   "metadata": {
    "application/vnd.databricks.v1+cell": {
     "cellMetadata": {
      "byteLimit": 2048000,
      "rowLimit": 10000
     },
     "inputWidgets": {},
     "nuid": "0fae18f2-23bf-46a1-b188-136f98f63dc8",
     "showTitle": false,
     "tableResultSettingsMap": {},
     "title": ""
    }
   },
   "outputs": [],
   "source": [
    "special_chars_regex = r'^[^a-zA-Z0-9]+$'\n",
    "\n",
    "null_counts = df_recommendation_clean.select([\n",
    "    _sum(when(col(c).isNull(), 1).otherwise(0)).alias(c) for c in df_recommendation_clean.columns\n",
    "])\n",
    "\n",
    "special_counts = df_recommendation_clean.select([\n",
    "    _sum(when(col(c).rlike(special_chars_regex), 1).otherwise(0)).alias(c) for c in df_recommendation_clean.columns\n",
    "])\n",
    "\n",
    "print(\"---- NULLs by columns ----\")\n",
    "null_counts.display()\n",
    "\n",
    "print(\"---- Values with only special characters per column ----\")\n",
    "special_counts.display()"
   ]
  },
  {
   "cell_type": "markdown",
   "metadata": {
    "application/vnd.databricks.v1+cell": {
     "cellMetadata": {
      "byteLimit": 2048000,
      "rowLimit": 10000
     },
     "inputWidgets": {},
     "nuid": "b90d773e-1d30-48be-8812-eb173de2aa65",
     "showTitle": false,
     "tableResultSettingsMap": {},
     "title": ""
    }
   },
   "source": [
    "### factor"
   ]
  },
  {
   "cell_type": "code",
   "execution_count": 0,
   "metadata": {
    "application/vnd.databricks.v1+cell": {
     "cellMetadata": {
      "byteLimit": 2048000,
      "rowLimit": 10000
     },
     "inputWidgets": {},
     "nuid": "2aefaa79-6598-45bd-be93-3245a16fbb78",
     "showTitle": false,
     "tableResultSettingsMap": {},
     "title": ""
    }
   },
   "outputs": [],
   "source": [
    "df_factor = spark.read.table(\"anac_aeronautical_occurrences_in_brazilian_civil_aviation.bronze_layer.gov_significant_factor\")"
   ]
  },
  {
   "cell_type": "code",
   "execution_count": 0,
   "metadata": {
    "application/vnd.databricks.v1+cell": {
     "cellMetadata": {
      "byteLimit": 2048000,
      "rowLimit": 10000
     },
     "inputWidgets": {},
     "nuid": "1cb4141a-c7af-4a2e-90fe-0fda3314847a",
     "showTitle": false,
     "tableResultSettingsMap": {},
     "title": ""
    }
   },
   "outputs": [],
   "source": [
    "df_factor_clean = clean_dataframe(df_factor)"
   ]
  },
  {
   "cell_type": "code",
   "execution_count": 0,
   "metadata": {
    "application/vnd.databricks.v1+cell": {
     "cellMetadata": {
      "byteLimit": 2048000,
      "rowLimit": 10000
     },
     "inputWidgets": {},
     "nuid": "a8db61c1-762d-405b-b992-36dd7211e31b",
     "showTitle": false,
     "tableResultSettingsMap": {},
     "title": ""
    }
   },
   "outputs": [],
   "source": [
    "special_chars_regex = r'^[^a-zA-Z0-9]+$'\n",
    "\n",
    "null_counts = df_factor_clean.select([\n",
    "    _sum(when(col(c).isNull(), 1).otherwise(0)).alias(c) for c in df_factor_clean.columns\n",
    "])\n",
    "\n",
    "special_counts = df_factor_clean.select([\n",
    "    _sum(when(col(c).rlike(special_chars_regex), 1).otherwise(0)).alias(c) for c in df_factor_clean.columns\n",
    "])\n",
    "\n",
    "print(\"---- NULLs by columns ----\")\n",
    "null_counts.display()\n",
    "\n",
    "print(\"---- Values with only special characters per column ----\")\n",
    "special_counts.display()"
   ]
  },
  {
   "cell_type": "markdown",
   "metadata": {
    "application/vnd.databricks.v1+cell": {
     "cellMetadata": {
      "byteLimit": 2048000,
      "rowLimit": 10000
     },
     "inputWidgets": {},
     "nuid": "16b19c22-36a4-4e2e-83fb-2966e89cd24a",
     "showTitle": false,
     "tableResultSettingsMap": {},
     "title": ""
    }
   },
   "source": [
    "### type occurrence"
   ]
  },
  {
   "cell_type": "code",
   "execution_count": 0,
   "metadata": {
    "application/vnd.databricks.v1+cell": {
     "cellMetadata": {
      "byteLimit": 2048000,
      "rowLimit": 10000
     },
     "inputWidgets": {},
     "nuid": "d6c623c0-21c8-4371-abf4-53d8b3f33d26",
     "showTitle": false,
     "tableResultSettingsMap": {},
     "title": ""
    }
   },
   "outputs": [],
   "source": [
    "df_type = spark.read.table(\"anac_aeronautical_occurrences_in_brazilian_civil_aviation.bronze_layer.gov_type_occurrence\")"
   ]
  },
  {
   "cell_type": "code",
   "execution_count": 0,
   "metadata": {
    "application/vnd.databricks.v1+cell": {
     "cellMetadata": {
      "byteLimit": 2048000,
      "rowLimit": 10000
     },
     "inputWidgets": {},
     "nuid": "2705b120-63cf-42a0-b9dc-f03601566c7c",
     "showTitle": false,
     "tableResultSettingsMap": {},
     "title": ""
    }
   },
   "outputs": [],
   "source": [
    "df_type_clean = clean_dataframe(df_type)"
   ]
  },
  {
   "cell_type": "code",
   "execution_count": 0,
   "metadata": {
    "application/vnd.databricks.v1+cell": {
     "cellMetadata": {
      "byteLimit": 2048000,
      "rowLimit": 10000
     },
     "inputWidgets": {},
     "nuid": "e84634d5-35c4-436d-a584-d0d162168ceb",
     "showTitle": false,
     "tableResultSettingsMap": {},
     "title": ""
    }
   },
   "outputs": [],
   "source": [
    "special_chars_regex = r'^[^a-zA-Z0-9]+$'\n",
    "\n",
    "null_counts = df_type_clean.select([\n",
    "    _sum(when(col(c).isNull(), 1).otherwise(0)).alias(c) for c in df_type_clean.columns\n",
    "])\n",
    "\n",
    "special_counts = df_type_clean.select([\n",
    "    _sum(when(col(c).rlike(special_chars_regex), 1).otherwise(0)).alias(c) for c in df_type_clean.columns\n",
    "])\n",
    "\n",
    "print(\"---- NULLs by columns ----\")\n",
    "null_counts.display()\n",
    "\n",
    "print(\"---- Values with only special characters per column ----\")\n",
    "special_counts.display()"
   ]
  },
  {
   "cell_type": "markdown",
   "metadata": {
    "application/vnd.databricks.v1+cell": {
     "cellMetadata": {
      "byteLimit": 2048000,
      "rowLimit": 10000
     },
     "inputWidgets": {},
     "nuid": "d684ae32-eda1-4de7-97c6-261254d350e4",
     "showTitle": false,
     "tableResultSettingsMap": {},
     "title": ""
    }
   },
   "source": [
    "## Saving tables"
   ]
  },
  {
   "cell_type": "code",
   "execution_count": 0,
   "metadata": {
    "application/vnd.databricks.v1+cell": {
     "cellMetadata": {
      "byteLimit": 2048000,
      "rowLimit": 10000
     },
     "inputWidgets": {},
     "nuid": "38150bb9-5447-4478-800d-6b1bbda8db90",
     "showTitle": false,
     "tableResultSettingsMap": {},
     "title": ""
    }
   },
   "outputs": [],
   "source": [
    "dataframes = {\n",
    "    \"gov_recommendation_clean\": df_recommendation_clean,\n",
    "    \"gov_significant_factor_clean\": df_factor_clean,\n",
    "    \"gov_type_occurrence_clean\": df_type_clean,\n",
    "    \"gov_occurrence_clean\": df_occurrence_clean,\n",
    "    \"gov_aircraft_clean\": df_aircraft_clean\n",
    "}\n",
    "\n",
    "for table_name, dataframe in dataframes.items():\n",
    "    dataframe.write.format(\"delta\") \\\n",
    "        .mode(\"overwrite\") \\\n",
    "        .saveAsTable(f\"anac_aeronautical_occurrences_in_brazilian_civil_aviation.silver_layer.{table_name}\")\n",
    "\n",
    "print(\"All tables saved in silver layer.\")\n"
   ]
  }
 ],
 "metadata": {
  "application/vnd.databricks.v1+notebook": {
   "computePreferences": null,
   "dashboards": [],
   "environmentMetadata": {
    "base_environment": "",
    "environment_version": "2"
   },
   "inputWidgetPreferences": null,
   "language": "python",
   "notebookMetadata": {
    "pythonIndentUnit": 4
   },
   "notebookName": "SilverTransformation",
   "widgets": {}
  },
  "language_info": {
   "name": "python"
  }
 },
 "nbformat": 4,
 "nbformat_minor": 0
}
