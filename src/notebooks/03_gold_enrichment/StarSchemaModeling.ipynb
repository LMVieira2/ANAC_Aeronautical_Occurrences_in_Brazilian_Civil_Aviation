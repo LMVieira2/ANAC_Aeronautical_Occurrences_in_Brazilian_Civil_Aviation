{
 "cells": [
  {
   "cell_type": "markdown",
   "metadata": {
    "application/vnd.databricks.v1+cell": {
     "cellMetadata": {
      "byteLimit": 2048000,
      "rowLimit": 10000
     },
     "inputWidgets": {},
     "nuid": "91f63728-350a-4986-8db6-674eb14cef8a",
     "showTitle": false,
     "tableResultSettingsMap": {},
     "title": ""
    }
   },
   "source": [
    "# Star schema creation"
   ]
  },
  {
   "cell_type": "markdown",
   "metadata": {
    "application/vnd.databricks.v1+cell": {
     "cellMetadata": {
      "byteLimit": 2048000,
      "rowLimit": 10000
     },
     "inputWidgets": {},
     "nuid": "66536a38-70b3-43ea-9665-739bd50864a8",
     "showTitle": false,
     "tableResultSettingsMap": {},
     "title": ""
    }
   },
   "source": [
    "## imports "
   ]
  },
  {
   "cell_type": "code",
   "execution_count": 0,
   "metadata": {
    "application/vnd.databricks.v1+cell": {
     "cellMetadata": {
      "byteLimit": 2048000,
      "rowLimit": 10000
     },
     "inputWidgets": {},
     "nuid": "afba3e23-e2c1-4861-b150-eb691244760f",
     "showTitle": false,
     "tableResultSettingsMap": {},
     "title": ""
    }
   },
   "outputs": [],
   "source": [
    "from pyspark.sql.functions import col, count, monotonically_increasing_id\n",
    "from pyspark.sql import functions as F"
   ]
  },
  {
   "cell_type": "code",
   "execution_count": 0,
   "metadata": {
    "application/vnd.databricks.v1+cell": {
     "cellMetadata": {
      "byteLimit": 2048000,
      "rowLimit": 10000
     },
     "collapsed": true,
     "inputWidgets": {},
     "nuid": "73f0a5ce-0720-40bb-98bb-77d5c22896fe",
     "showTitle": false,
     "tableResultSettingsMap": {},
     "title": ""
    }
   },
   "outputs": [],
   "source": [
    "df_aircraft = spark.read.table(\"anac_aeronautical_occurrences_in_brazilian_civil_aviation.silver_layer.gov_aircraft_clean\")"
   ]
  },
  {
   "cell_type": "code",
   "execution_count": 0,
   "metadata": {
    "application/vnd.databricks.v1+cell": {
     "cellMetadata": {
      "byteLimit": 2048000,
      "rowLimit": 10000
     },
     "inputWidgets": {},
     "nuid": "06d1fc7d-8c01-4674-bb8d-1eb13fe714aa",
     "showTitle": false,
     "tableResultSettingsMap": {},
     "title": ""
    }
   },
   "outputs": [],
   "source": [
    "df_factor = spark.read.table(\"anac_aeronautical_occurrences_in_brazilian_civil_aviation.silver_layer.gov_significant_factor_clean\")"
   ]
  },
  {
   "cell_type": "code",
   "execution_count": 0,
   "metadata": {
    "application/vnd.databricks.v1+cell": {
     "cellMetadata": {
      "byteLimit": 2048000,
      "rowLimit": 10000
     },
     "inputWidgets": {},
     "nuid": "fa22cf9f-b024-4525-8320-2580fc56022c",
     "showTitle": false,
     "tableResultSettingsMap": {},
     "title": ""
    }
   },
   "outputs": [],
   "source": [
    "df_occurence = spark.read.table(\"anac_aeronautical_occurrences_in_brazilian_civil_aviation.silver_layer.gov_occurrence_clean\")"
   ]
  },
  {
   "cell_type": "code",
   "execution_count": 0,
   "metadata": {
    "application/vnd.databricks.v1+cell": {
     "cellMetadata": {
      "byteLimit": 2048000,
      "rowLimit": 10000
     },
     "inputWidgets": {},
     "nuid": "1f92d405-5a65-4725-a2b5-2c4ea7d4aa0c",
     "showTitle": false,
     "tableResultSettingsMap": {},
     "title": ""
    }
   },
   "outputs": [],
   "source": [
    "df_recommendation = spark.read.table(\"anac_aeronautical_occurrences_in_brazilian_civil_aviation.silver_layer.gov_recommendation_clean\")"
   ]
  },
  {
   "cell_type": "code",
   "execution_count": 0,
   "metadata": {
    "application/vnd.databricks.v1+cell": {
     "cellMetadata": {
      "byteLimit": 2048000,
      "rowLimit": 10000
     },
     "inputWidgets": {},
     "nuid": "53ff1d4d-e5b8-475e-9230-5ffbf5dfa4e3",
     "showTitle": false,
     "tableResultSettingsMap": {},
     "title": ""
    }
   },
   "outputs": [],
   "source": [
    "df_type = spark.read.table(\"anac_aeronautical_occurrences_in_brazilian_civil_aviation.silver_layer.gov_type_occurrence_clean\")"
   ]
  },
  {
   "cell_type": "markdown",
   "metadata": {
    "application/vnd.databricks.v1+cell": {
     "cellMetadata": {
      "byteLimit": 2048000,
      "rowLimit": 10000
     },
     "inputWidgets": {},
     "nuid": "b6a28932-1dcd-4d8b-b8f4-dda0b240e960",
     "showTitle": false,
     "tableResultSettingsMap": {},
     "title": ""
    }
   },
   "source": [
    "## aircraft dimensional"
   ]
  },
  {
   "cell_type": "code",
   "execution_count": 0,
   "metadata": {
    "application/vnd.databricks.v1+cell": {
     "cellMetadata": {
      "byteLimit": 2048000,
      "rowLimit": 10000
     },
     "inputWidgets": {},
     "nuid": "67dcb5af-0af5-411b-a1ef-a8c14b675420",
     "showTitle": false,
     "tableResultSettingsMap": {
      "0": {
       "dataGridStateBlob": "{\"version\":1,\"tableState\":{\"columnPinning\":{\"left\":[\"#row_number#\"],\"right\":[]},\"columnSizing\":{},\"columnVisibility\":{}},\"settings\":{\"columns\":{}},\"syncTimestamp\":1756145138200}",
       "filterBlob": null,
       "queryPlanFiltersBlob": null,
       "tableResultIndex": 0
      }
     },
     "title": ""
    }
   },
   "outputs": [],
   "source": [
    "#display(df_aircraft.groupBy(table).agg(count(\"*\").alias(\"qtd\")))"
   ]
  },
  {
   "cell_type": "code",
   "execution_count": 0,
   "metadata": {
    "application/vnd.databricks.v1+cell": {
     "cellMetadata": {
      "byteLimit": 2048000,
      "rowLimit": 10000
     },
     "inputWidgets": {},
     "nuid": "ad3e5341-77be-4aea-986e-4aa494adc2cd",
     "showTitle": false,
     "tableResultSettingsMap": {},
     "title": ""
    }
   },
   "outputs": [],
   "source": [
    "df_aircraft_dim = (\n",
    "    df_aircraft\n",
    "    .select(\"codigo_ocorrencia2\", \"aeronave_matricula\", \"aeronave_fabricante\",\n",
    "            \"aeronave_modelo\", \"aeronave_tipo_veiculo\", \"aeronave_motor_tipo\", \"aeronave_motor_quantidade\",\n",
    "            \"aeronave_assentos\", \"aeronave_ano_fabricacao\", \"aeronave_voo_origem\", \n",
    "            \"aeronave_voo_destino\", \"aeronave_fase_operacao\", \"aeronave_nivel_dano\", \"aeronave_fatalidades_total\")\n",
    "    .dropDuplicates([\"codigo_ocorrencia2\"])\n",
    ")\n"
   ]
  },
  {
   "cell_type": "code",
   "execution_count": 0,
   "metadata": {
    "application/vnd.databricks.v1+cell": {
     "cellMetadata": {
      "byteLimit": 2048000,
      "rowLimit": 10000
     },
     "inputWidgets": {},
     "nuid": "9b44ed70-cba1-44ad-b882-5477cf10a299",
     "showTitle": false,
     "tableResultSettingsMap": {},
     "title": ""
    }
   },
   "outputs": [],
   "source": [
    "df_aircraft_dim = df_aircraft_dim.withColumn(\"id_dim_aeronave\", monotonically_increasing_id())"
   ]
  },
  {
   "cell_type": "markdown",
   "metadata": {
    "application/vnd.databricks.v1+cell": {
     "cellMetadata": {
      "byteLimit": 2048000,
      "rowLimit": 10000
     },
     "inputWidgets": {},
     "nuid": "364687d4-545f-44e2-9d34-bfa4529d0ec7",
     "showTitle": false,
     "tableResultSettingsMap": {},
     "title": ""
    }
   },
   "source": [
    "## significant factor dimensional"
   ]
  },
  {
   "cell_type": "code",
   "execution_count": 0,
   "metadata": {
    "application/vnd.databricks.v1+cell": {
     "cellMetadata": {
      "byteLimit": 2048000,
      "rowLimit": 10000
     },
     "inputWidgets": {},
     "nuid": "d5ac01eb-ea99-4818-baae-5ac4a1976c4f",
     "showTitle": false,
     "tableResultSettingsMap": {},
     "title": ""
    }
   },
   "outputs": [],
   "source": [
    "df_factor_dim = (\n",
    "    df_factor\n",
    "    .select(\"codigo_ocorrencia3\", \"fator_nome\", \"fator_aspecto\",\n",
    "            \"fator_condicionante\", \"fator_area\")\n",
    ")"
   ]
  },
  {
   "cell_type": "code",
   "execution_count": 0,
   "metadata": {
    "application/vnd.databricks.v1+cell": {
     "cellMetadata": {
      "byteLimit": 2048000,
      "rowLimit": 10000
     },
     "inputWidgets": {},
     "nuid": "69c23405-b309-4914-9c0d-a7ccbfec779d",
     "showTitle": false,
     "tableResultSettingsMap": {},
     "title": ""
    }
   },
   "outputs": [],
   "source": [
    "df_factor_dim = (\n",
    "    df_factor_dim\n",
    "    .groupBy(\"codigo_ocorrencia3\")\n",
    "    .agg(\n",
    "        F.concat_ws(\", \", F.collect_list(\"fator_nome\")).alias(\"fatores_concatenados\"),\n",
    "        F.concat_ws(\", \", F.collect_list(\"fator_aspecto\")).alias(\"aspectos_concatenados\"),\n",
    "        F.concat_ws(\", \", F.collect_list(\"fator_condicionante\")).alias(\"condicionantes_concatenados\"),\n",
    "        F.concat_ws(\", \", F.collect_list(\"fator_area\")).alias(\"areas_concatenadas\")\n",
    "    )\n",
    ")"
   ]
  },
  {
   "cell_type": "code",
   "execution_count": 0,
   "metadata": {
    "application/vnd.databricks.v1+cell": {
     "cellMetadata": {
      "byteLimit": 2048000,
      "rowLimit": 10000
     },
     "inputWidgets": {},
     "nuid": "a7c32168-5102-4100-a97c-c140cf8f47ef",
     "showTitle": false,
     "tableResultSettingsMap": {},
     "title": ""
    }
   },
   "outputs": [],
   "source": [
    "df_factor_dim = df_factor_dim.withColumn(\"id_dim_fator\", monotonically_increasing_id())"
   ]
  },
  {
   "cell_type": "markdown",
   "metadata": {
    "application/vnd.databricks.v1+cell": {
     "cellMetadata": {
      "byteLimit": 2048000,
      "rowLimit": 10000
     },
     "inputWidgets": {},
     "nuid": "57cc8021-e912-4f30-84a6-e6e7845552b0",
     "showTitle": false,
     "tableResultSettingsMap": {},
     "title": ""
    }
   },
   "source": [
    "## type occurrence dimensional"
   ]
  },
  {
   "cell_type": "code",
   "execution_count": 0,
   "metadata": {
    "application/vnd.databricks.v1+cell": {
     "cellMetadata": {
      "byteLimit": 2048000,
      "rowLimit": 10000
     },
     "inputWidgets": {},
     "nuid": "3143274a-e6b0-4d48-ba44-ed46aa34722b",
     "showTitle": false,
     "tableResultSettingsMap": {},
     "title": ""
    }
   },
   "outputs": [],
   "source": [
    "df_type_dim = (\n",
    "    df_type\n",
    "    .select(\"codigo_ocorrencia1\", \"ocorrencia_tipo\", \n",
    "            \"ocorrencia_tipo_categoria\", \"taxonomia_tipo_icao\")\n",
    "    .dropDuplicates([\"codigo_ocorrencia1\"])\n",
    ")"
   ]
  },
  {
   "cell_type": "code",
   "execution_count": 0,
   "metadata": {
    "application/vnd.databricks.v1+cell": {
     "cellMetadata": {
      "byteLimit": 2048000,
      "rowLimit": 10000
     },
     "inputWidgets": {},
     "nuid": "c4e0349f-a44f-4c4c-885b-4570522e0f71",
     "showTitle": false,
     "tableResultSettingsMap": {},
     "title": ""
    }
   },
   "outputs": [],
   "source": [
    "df_type_dim = df_type_dim.withColumn(\"id_dim_ocorrencia_tipo\", monotonically_increasing_id())"
   ]
  },
  {
   "cell_type": "markdown",
   "metadata": {
    "application/vnd.databricks.v1+cell": {
     "cellMetadata": {
      "byteLimit": 2048000,
      "rowLimit": 10000
     },
     "inputWidgets": {},
     "nuid": "293f14f6-e610-4a86-b52f-d698ff7dd658",
     "showTitle": false,
     "tableResultSettingsMap": {},
     "title": ""
    }
   },
   "source": [
    "## recommendation dimensional"
   ]
  },
  {
   "cell_type": "code",
   "execution_count": 0,
   "metadata": {
    "application/vnd.databricks.v1+cell": {
     "cellMetadata": {
      "byteLimit": 2048000,
      "rowLimit": 10000
     },
     "inputWidgets": {},
     "nuid": "45045ac7-8420-43d7-b8d1-4ebca6fc9ee2",
     "showTitle": false,
     "tableResultSettingsMap": {},
     "title": ""
    }
   },
   "outputs": [],
   "source": [
    "df_recommendation_dim = (\n",
    "    df_recommendation\n",
    "    .select(\"codigo_ocorrencia4\", \"recomendacao_conteudo\", \n",
    "            \"recomendacao_status\", \"recomendacao_destinatario_sigla\")\n",
    "    .dropDuplicates([\"codigo_ocorrencia4\"])\n",
    ")"
   ]
  },
  {
   "cell_type": "code",
   "execution_count": 0,
   "metadata": {
    "application/vnd.databricks.v1+cell": {
     "cellMetadata": {
      "byteLimit": 2048000,
      "rowLimit": 10000
     },
     "inputWidgets": {},
     "nuid": "e0eda521-9ae2-433f-b44d-8170c8c63a24",
     "showTitle": false,
     "tableResultSettingsMap": {},
     "title": ""
    }
   },
   "outputs": [],
   "source": [
    "df_recommendation_dim = df_recommendation_dim.withColumn(\"id_dim_recomendacao\", monotonically_increasing_id())"
   ]
  },
  {
   "cell_type": "markdown",
   "metadata": {
    "application/vnd.databricks.v1+cell": {
     "cellMetadata": {
      "byteLimit": 2048000,
      "rowLimit": 10000
     },
     "inputWidgets": {},
     "nuid": "e4cb0964-d352-46ca-8015-587f55c6a93b",
     "showTitle": false,
     "tableResultSettingsMap": {},
     "title": ""
    }
   },
   "source": [
    "## occurrence fact"
   ]
  },
  {
   "cell_type": "code",
   "execution_count": 0,
   "metadata": {
    "application/vnd.databricks.v1+cell": {
     "cellMetadata": {
      "byteLimit": 2048000,
      "rowLimit": 10000
     },
     "inputWidgets": {},
     "nuid": "00f07de1-c644-477b-91d6-c92611c3a1bc",
     "showTitle": false,
     "tableResultSettingsMap": {},
     "title": ""
    }
   },
   "outputs": [],
   "source": [
    "df_occurence_fact = (\n",
    "    df_occurence\n",
    "    .join(df_aircraft_dim.select(\"codigo_ocorrencia2\", \"id_dim_aeronave\"), \"codigo_ocorrencia2\", \"left\")\n",
    "    .join(df_factor_dim.select(\"codigo_ocorrencia3\", \"id_dim_fator\"), \"codigo_ocorrencia3\", \"left\")\n",
    "    .join(df_type_dim.select(\"codigo_ocorrencia1\", \"id_dim_ocorrencia_tipo\"), \"codigo_ocorrencia1\", \"left\")\n",
    "\n",
    "    .select(\n",
    "        \"codigo_ocorrencia\",       \n",
    "        \"id_dim_aeronave\", \n",
    "        \"id_dim_fator\",\n",
    "        \"id_dim_ocorrencia_tipo\",\n",
    "        \"ocorrencia_classificacao\",\n",
    "        \"ocorrencia_cidade\",\n",
    "        \"ocorrencia_uf\",\n",
    "        \"ocorrencia_pais\",\n",
    "        \"ocorrencia_dia\",\n",
    "        \"ocorrencia_hora\",\n",
    "        \"total_aeronaves_envolvidas\"\n",
    "    )\n",
    ")"
   ]
  },
  {
   "cell_type": "markdown",
   "metadata": {
    "application/vnd.databricks.v1+cell": {
     "cellMetadata": {
      "byteLimit": 2048000,
      "rowLimit": 10000
     },
     "inputWidgets": {},
     "nuid": "eafaa02b-1c8e-4d2f-ba3c-4de25f0b7142",
     "showTitle": false,
     "tableResultSettingsMap": {},
     "title": ""
    }
   },
   "source": [
    "# Saving dims"
   ]
  },
  {
   "cell_type": "code",
   "execution_count": 0,
   "metadata": {
    "application/vnd.databricks.v1+cell": {
     "cellMetadata": {
      "byteLimit": 2048000,
      "rowLimit": 10000
     },
     "inputWidgets": {},
     "nuid": "a8468d1b-bd52-425e-b003-a015c8a679f9",
     "showTitle": false,
     "tableResultSettingsMap": {},
     "title": ""
    }
   },
   "outputs": [],
   "source": [
    "dataframes = {\n",
    "    \"gov_recommendation_dim\": df_recommendation_dim,\n",
    "    \"gov_significant_factor_dim\": df_factor_dim,\n",
    "    \"gov_type_occurrence_dim\": df_type_dim,\n",
    "    \"gov_occurrence_fact\": df_occurence_fact,\n",
    "    \"gov_aircraft_dim\": df_aircraft_dim\n",
    "}\n",
    "\n",
    "for table_name, dataframe in dataframes.items():\n",
    "    dataframe.write.format(\"delta\") \\\n",
    "        .mode(\"overwrite\") \\\n",
    "        .saveAsTable(f\"anac_aeronautical_occurrences_in_brazilian_civil_aviation.gold_layer.{table_name}\")\n",
    "\n",
    "print(\"All tables saved in gold layer.\")"
   ]
  }
 ],
 "metadata": {
  "application/vnd.databricks.v1+notebook": {
   "computePreferences": null,
   "dashboards": [],
   "environmentMetadata": {
    "base_environment": "",
    "environment_version": "3"
   },
   "inputWidgetPreferences": null,
   "language": "python",
   "notebookMetadata": {
    "pythonIndentUnit": 4
   },
   "notebookName": "StarSchemaModeling",
   "widgets": {}
  },
  "language_info": {
   "name": "python"
  }
 },
 "nbformat": 4,
 "nbformat_minor": 0
}
