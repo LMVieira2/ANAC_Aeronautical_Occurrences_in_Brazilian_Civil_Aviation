{
 "cells": [
  {
   "cell_type": "markdown",
   "metadata": {
    "application/vnd.databricks.v1+cell": {
     "cellMetadata": {
      "byteLimit": 2048000,
      "rowLimit": 10000
     },
     "inputWidgets": {},
     "nuid": "49eab9bc-617e-4e9c-8862-230f3f231a8d",
     "showTitle": false,
     "tableResultSettingsMap": {},
     "title": ""
    }
   },
   "source": [
    "# View table for dashboard"
   ]
  },
  {
   "cell_type": "markdown",
   "metadata": {
    "application/vnd.databricks.v1+cell": {
     "cellMetadata": {
      "byteLimit": 2048000,
      "rowLimit": 10000
     },
     "inputWidgets": {},
     "nuid": "c77389ff-c11e-4873-9e9e-69a4689922f6",
     "showTitle": false,
     "tableResultSettingsMap": {},
     "title": ""
    }
   },
   "source": [
    "## Calendar table for dashboard"
   ]
  },
  {
   "cell_type": "code",
   "execution_count": 0,
   "metadata": {
    "application/vnd.databricks.v1+cell": {
     "cellMetadata": {
      "byteLimit": 2048000,
      "implicitDf": true,
      "rowLimit": 10000
     },
     "inputWidgets": {},
     "nuid": "1564b663-e70c-4535-945e-cc07a921e633",
     "showTitle": false,
     "tableResultSettingsMap": {},
     "title": ""
    }
   },
   "outputs": [],
   "source": [
    "%sql\n",
    "CREATE OR REPLACE TABLE anac_aeronautical_occurrences_in_brazilian_civil_aviation.gold_layer.dim_calendar AS\n",
    "WITH dates AS (\n",
    "  SELECT explode(sequence(to_date('2007-01-01'), to_date('2025-12-31'), interval 1 day)) AS Date\n",
    ")\n",
    "SELECT\n",
    "    Date,\n",
    "    year(Date) AS Ano,\n",
    "    month(Date) AS Mes,\n",
    "    day(Date) AS Dia,\n",
    "    quarter(Date) AS Trimestre,\n",
    "    date_format(Date, 'MMMM') AS NomeMes,\n",
    "    date_format(Date, 'EEE') AS NomeDiaAbrev,\n",
    "    date_format(Date, 'EEEE') AS NomeDia,\n",
    "    lpad(month(Date), 2, '0') AS MesNumPad,\n",
    "    concat(year(Date), '-', lpad(month(Date), 2, '0')) AS AnoMes,\n",
    "    CASE WHEN dayofweek(Date) IN (1,7) THEN 1 ELSE 0 END AS IsWeekend\n",
    "FROM dates;\n"
   ]
  },
  {
   "cell_type": "markdown",
   "metadata": {
    "application/vnd.databricks.v1+cell": {
     "cellMetadata": {
      "byteLimit": 2048000,
      "rowLimit": 10000
     },
     "inputWidgets": {},
     "nuid": "00937482-07f3-49bc-b424-20722453e042",
     "showTitle": false,
     "tableResultSettingsMap": {},
     "title": ""
    }
   },
   "source": [
    "## Imports"
   ]
  },
  {
   "cell_type": "code",
   "execution_count": 0,
   "metadata": {
    "application/vnd.databricks.v1+cell": {
     "cellMetadata": {
      "byteLimit": 2048000,
      "rowLimit": 10000
     },
     "inputWidgets": {},
     "nuid": "eb2d9ec9-597b-427c-8bda-cf0e0dad1087",
     "showTitle": false,
     "tableResultSettingsMap": {},
     "title": ""
    }
   },
   "outputs": [],
   "source": [
    "df_aircraft = spark.read.table(\"anac_aeronautical_occurrences_in_brazilian_civil_aviation.gold_layer.gov_aircraft_dim\")\n",
    "df_factor = spark.read.table(\"anac_aeronautical_occurrences_in_brazilian_civil_aviation.gold_layer.gov_significant_factor_dim\")\n",
    "df_occurrence = spark.read.table(\"anac_aeronautical_occurrences_in_brazilian_civil_aviation.gold_layer.gov_occurrence_fact\")\n",
    "df_recommendation = spark.read.table(\"anac_aeronautical_occurrences_in_brazilian_civil_aviation.gold_layer.gov_recommendation_dim\")\n",
    "df_type = spark.read.table(\"anac_aeronautical_occurrences_in_brazilian_civil_aviation.gold_layer.gov_type_occurrence_dim\")\n",
    "df_calendar = spark.read.table(\"anac_aeronautical_occurrences_in_brazilian_civil_aviation.gold_layer.dim_calendar\")"
   ]
  },
  {
   "cell_type": "markdown",
   "metadata": {
    "application/vnd.databricks.v1+cell": {
     "cellMetadata": {
      "byteLimit": 2048000,
      "rowLimit": 10000
     },
     "inputWidgets": {},
     "nuid": "c41df1d2-8b5a-48fc-901d-3516e78b3ff9",
     "showTitle": false,
     "tableResultSettingsMap": {},
     "title": ""
    }
   },
   "source": [
    "## View table"
   ]
  },
  {
   "cell_type": "code",
   "execution_count": 0,
   "metadata": {
    "application/vnd.databricks.v1+cell": {
     "cellMetadata": {
      "byteLimit": 2048000,
      "implicitDf": true,
      "rowLimit": 10000
     },
     "inputWidgets": {},
     "nuid": "383f8e17-1555-436e-bd0d-77a2c98bf219",
     "showTitle": false,
     "tableResultSettingsMap": {},
     "title": ""
    }
   },
   "outputs": [],
   "source": [
    "%sql\n",
    "CREATE OR REPLACE VIEW anac_aeronautical_occurrences_in_brazilian_civil_aviation.gold_layer.vw_anac_dashboard AS\n",
    "SELECT\n",
    "  ac.aeronave_matricula,\n",
    "  ac.aeronave_fabricante,\n",
    "  ac.aeronave_modelo,\n",
    "  ac.aeronave_tipo_veiculo,\n",
    "  ac.aeronave_motor_tipo,\n",
    "  ac.aeronave_motor_quantidade,\n",
    "  ac.aeronave_assentos,\n",
    "  ac.aeronave_ano_fabricacao,\n",
    "  ac.aeronave_voo_origem,\n",
    "  ac.aeronave_voo_destino,\n",
    "  ac.aeronave_fase_operacao,\n",
    "  ac.aeronave_nivel_dano,\n",
    "  ac.aeronave_fatalidades_total,\n",
    "  tp.ocorrencia_tipo, \n",
    "  tp.ocorrencia_tipo_categoria,\n",
    "  fc.fatores_concatenados,\n",
    "  fc.aspectos_concatenados,\n",
    "  fc.condicionantes_concatenados,\n",
    "  fc.areas_concatenadas,\n",
    "  oc.ocorrencia_classificacao,\n",
    "  oc.ocorrencia_cidade,\n",
    "  oc.ocorrencia_uf,\n",
    "  oc.ocorrencia_pais,\n",
    "  oc.ocorrencia_dia,\n",
    "  oc.ocorrencia_hora,\n",
    "  oc.total_aeronaves_envolvidas\n",
    "FROM anac_aeronautical_occurrences_in_brazilian_civil_aviation.gold_layer.gov_occurrence_fact oc\n",
    "LEFT JOIN anac_aeronautical_occurrences_in_brazilian_civil_aviation.gold_layer.gov_aircraft_dim ac\n",
    "  ON oc.id_dim_aeronave = ac.id_dim_aeronave\n",
    "LEFT JOIN anac_aeronautical_occurrences_in_brazilian_civil_aviation.gold_layer.gov_type_occurrence_dim tp\n",
    "  ON oc.id_dim_ocorrencia_tipo = tp.id_dim_ocorrencia_tipo\n",
    "LEFT JOIN anac_aeronautical_occurrences_in_brazilian_civil_aviation.gold_layer.gov_significant_factor_dim fc\n",
    "  ON oc.id_dim_fator = fc.id_dim_fator\n"
   ]
  }
 ],
 "metadata": {
  "application/vnd.databricks.v1+notebook": {
   "computePreferences": null,
   "dashboards": [],
   "environmentMetadata": {
    "base_environment": "",
    "environment_version": "3"
   },
   "inputWidgetPreferences": null,
   "language": "python",
   "notebookMetadata": {
    "mostRecentlyExecutedCommandWithImplicitDF": {
     "commandId": 8246611234403719,
     "dataframes": [
      "_sqldf"
     ]
    },
    "pythonIndentUnit": 4
   },
   "notebookName": "DashboardPreparation",
   "widgets": {}
  },
  "language_info": {
   "name": "python"
  }
 },
 "nbformat": 4,
 "nbformat_minor": 0
}
