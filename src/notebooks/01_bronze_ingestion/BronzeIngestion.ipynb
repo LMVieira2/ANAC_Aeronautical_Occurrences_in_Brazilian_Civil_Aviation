{
 "cells": [
  {
   "cell_type": "markdown",
   "metadata": {
    "application/vnd.databricks.v1+cell": {
     "cellMetadata": {
      "byteLimit": 2048000,
      "rowLimit": 10000
     },
     "inputWidgets": {},
     "nuid": "84166f4a-59e4-4e44-ac4e-6cf9d47e72f9",
     "showTitle": false,
     "tableResultSettingsMap": {},
     "title": ""
    }
   },
   "source": [
    "# Imports"
   ]
  },
  {
   "cell_type": "code",
   "execution_count": 0,
   "metadata": {
    "application/vnd.databricks.v1+cell": {
     "cellMetadata": {
      "byteLimit": 2048000,
      "rowLimit": 10000
     },
     "inputWidgets": {},
     "nuid": "beb529f4-452d-455b-9739-ac9372f32f44",
     "showTitle": false,
     "tableResultSettingsMap": {},
     "title": ""
    }
   },
   "outputs": [],
   "source": [
    "import requests\n",
    "from io import StringIO\n",
    "import pandas as pd\n",
    "from pyspark.sql import SparkSession\n"
   ]
  },
  {
   "cell_type": "markdown",
   "metadata": {
    "application/vnd.databricks.v1+cell": {
     "cellMetadata": {
      "byteLimit": 2048000,
      "rowLimit": 10000
     },
     "inputWidgets": {},
     "nuid": "4974e51e-a907-496f-b37e-997a22c58ef9",
     "showTitle": false,
     "tableResultSettingsMap": {},
     "title": ""
    }
   },
   "source": [
    "# Read raw data"
   ]
  },
  {
   "cell_type": "code",
   "execution_count": 0,
   "metadata": {
    "application/vnd.databricks.v1+cell": {
     "cellMetadata": {
      "byteLimit": 2048000,
      "rowLimit": 10000
     },
     "inputWidgets": {},
     "nuid": "1de45b2b-cd5d-4542-be81-3b68f9b90ea1",
     "showTitle": false,
     "tableResultSettingsMap": {},
     "title": ""
    }
   },
   "outputs": [],
   "source": [
    "def load_csvs_to_spark(files_dict, sep=\";\", encoding=\"ISO-8859-1\"):\n",
    "    \"\"\"\n",
    "    Downloads CSVs from URLs and creates Spark DataFrames and temporary tables.\n",
    "    \n",
    "    Parameters:\n",
    "    - files_dict: dictionary {table_name: csv_url}\n",
    "    - sep: CSV delimiter\n",
    "    - encoding: CSV encoding\n",
    "    \"\"\"\n",
    "    dfs = {}\n",
    "    \n",
    "    for table_name, url in files_dict.items():\n",
    "        print(f\"Downloading and loading {table_name}...\")\n",
    "        \n",
    "        # Donwload CSV\n",
    "        response = requests.get(url)\n",
    "        response.raise_for_status()\n",
    "        \n",
    "        # Convert to StringIO\n",
    "        csv_data = StringIO(response.content.decode(encoding))\n",
    "        \n",
    "        # Pandas read-\n",
    "        pdf = pd.read_csv(csv_data, sep=sep)\n",
    "        \n",
    "        # Convert to Spark DataFrame\n",
    "        df = spark.createDataFrame(pdf)\n",
    "        \n",
    "        # temporary spark table\n",
    "        df.createOrReplaceTempView(table_name.split()[0])\n",
    "        \n",
    "        # Save in dict\n",
    "        dfs[table_name.split(\".\")[0]] = df\n",
    "        \n",
    "        print(f\" Table '{table_name.split('.')[0]}' is ready in Spark\\n\")\n",
    "    \n",
    "    return dfs\n"
   ]
  },
  {
   "cell_type": "code",
   "execution_count": 0,
   "metadata": {
    "application/vnd.databricks.v1+cell": {
     "cellMetadata": {
      "byteLimit": 2048000,
      "rowLimit": 10000
     },
     "inputWidgets": {},
     "nuid": "82ba5dff-2c5b-40ca-8b3c-c7534a81aad0",
     "showTitle": false,
     "tableResultSettingsMap": {},
     "title": ""
    }
   },
   "outputs": [],
   "source": [
    "files = {\n",
    "    \"recommendation\": \"https://dedalo.sti.fab.mil.br/dadosabertos/recomendacao.csv\",\n",
    "    \"significant_factor\": \"https://dedalo.sti.fab.mil.br/dadosabertos/fator_contribuinte.csv\",\n",
    "    \"type_occurrence\": \"https://dedalo.sti.fab.mil.br/dadosabertos/ocorrencia_tipo.csv\",\n",
    "    \"occurrence\": \"https://dedalo.sti.fab.mil.br/dadosabertos/ocorrencia.csv\",\n",
    "    \"aircraft\": \"https://dedalo.sti.fab.mil.br/dadosabertos/aeronave.csv\"\n",
    "}\n",
    "\n",
    "dfs = load_csvs_to_spark(files)"
   ]
  },
  {
   "cell_type": "code",
   "execution_count": 0,
   "metadata": {
    "application/vnd.databricks.v1+cell": {
     "cellMetadata": {
      "byteLimit": 2048000,
      "rowLimit": 10000
     },
     "inputWidgets": {},
     "nuid": "1b2494bc-c7ae-486e-8504-a71efbcb255d",
     "showTitle": false,
     "tableResultSettingsMap": {},
     "title": ""
    }
   },
   "outputs": [],
   "source": [
    "dfs.keys()"
   ]
  },
  {
   "cell_type": "code",
   "execution_count": 0,
   "metadata": {
    "application/vnd.databricks.v1+cell": {
     "cellMetadata": {
      "byteLimit": 2048000,
      "rowLimit": 10000
     },
     "inputWidgets": {},
     "nuid": "0db9ae38-f5ac-42c7-b223-9201a7d002c4",
     "showTitle": false,
     "tableResultSettingsMap": {},
     "title": ""
    }
   },
   "outputs": [],
   "source": [
    "df_recommendation = dfs[\"recommendation\"]\n",
    "df_significant_factor = dfs[\"significant_factor\"]\n",
    "df_type_occurrence = dfs[\"type_occurrence\"]\n",
    "df_occurrence = dfs[\"occurrence\"]\n",
    "df_aircraft = dfs[\"aircraft\"]"
   ]
  },
  {
   "cell_type": "markdown",
   "metadata": {
    "application/vnd.databricks.v1+cell": {
     "cellMetadata": {
      "byteLimit": 2048000,
      "rowLimit": 10000
     },
     "inputWidgets": {},
     "nuid": "d04c9268-211f-4528-a920-e85f10d71682",
     "showTitle": false,
     "tableResultSettingsMap": {},
     "title": ""
    }
   },
   "source": [
    "# Save delta tables in bronze layer\n"
   ]
  },
  {
   "cell_type": "code",
   "execution_count": 0,
   "metadata": {
    "application/vnd.databricks.v1+cell": {
     "cellMetadata": {
      "byteLimit": 2048000,
      "rowLimit": 10000
     },
     "inputWidgets": {},
     "nuid": "f3962b1d-7f8d-4050-bd8d-5d8d2309baf3",
     "showTitle": false,
     "tableResultSettingsMap": {},
     "title": ""
    }
   },
   "outputs": [],
   "source": [
    "dataframes = {\n",
    "    \"gov_recommendation\": df_recommendation,\n",
    "    \"gov_significant_factor\": df_significant_factor,\n",
    "    \"gov_type_occurrence\": df_type_occurrence,\n",
    "    \"gov_occurrence\": df_occurrence,\n",
    "    \"gov_aircraft\": df_aircraft\n",
    "}\n",
    "\n",
    "for table_name, dataframe in dataframes.items():\n",
    "    dataframe.write.format(\"delta\") \\\n",
    "        .mode(\"overwrite\") \\\n",
    "        .saveAsTable(f\"anac_aeronautical_occurrences_in_brazilian_civil_aviation.bronze_layer.{table_name}\")\n",
    "\n",
    "print(\"All tables saved in bronze layer.\")"
   ]
  }
 ],
 "metadata": {
  "application/vnd.databricks.v1+notebook": {
   "computePreferences": null,
   "dashboards": [],
   "environmentMetadata": {
    "base_environment": "",
    "environment_version": "2"
   },
   "inputWidgetPreferences": null,
   "language": "python",
   "notebookMetadata": {
    "pythonIndentUnit": 4
   },
   "notebookName": "BronzeIngestion",
   "widgets": {}
  },
  "language_info": {
   "name": "python"
  }
 },
 "nbformat": 4,
 "nbformat_minor": 0
}
